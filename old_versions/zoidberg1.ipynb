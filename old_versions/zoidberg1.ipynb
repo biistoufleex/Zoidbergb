{
 "cells": [
  {
   "cell_type": "code",
   "execution_count": 2,
   "metadata": {},
   "outputs": [],
   "source": [
    "import matplotlib.pyplot as plt\n",
    "import numpy as np\n",
    "import tensorflow as tf\n",
    "from tensorflow import keras\n",
    "from keras import layers\n",
    "from keras.models import Sequential\n",
    "from keras.callbacks import ModelCheckpoint\n",
    "from keras.preprocessing.image import ImageDataGenerator\n",
    "from math import ceil\n",
    "from sklearn.metrics import confusion_matrix, classification_report\n",
    "from mlxtend.plotting import plot_confusion_matrix"
   ]
  },
  {
   "cell_type": "code",
   "execution_count": 3,
   "metadata": {},
   "outputs": [
    {
     "name": "stdout",
     "output_type": "stream",
     "text": [
      "Num GPUs Available:  0\n"
     ]
    }
   ],
   "source": [
    "print(\"Num GPUs Available: \", len(tf.config.list_physical_devices('GPU')))\n",
    "\n",
    "# tf.config.list_physical_devices('GPU')"
   ]
  },
  {
   "cell_type": "code",
   "execution_count": 4,
   "metadata": {},
   "outputs": [],
   "source": [
    "# Best parameters: {'batch_size': 64, 'image_size': 128, 'optimizer': 'sgd', 'epochs': 5}\n",
    "batch_size = 64\n",
    "img_height = 128\n",
    "img_width = 128\n",
    "DATA_DIR = \"../chest_Xray/\"\n",
    "TEST = \"test/\"\n",
    "TRAIN = \"train/\"\n",
    "VAL = \"val/\"\n",
    "NORMAL = \"NORMAL\"\n",
    "PNEUMONIA = \"PNEUMONIA\"\n",
    "NET = \"NET\""
   ]
  },
  {
   "cell_type": "code",
   "execution_count": 5,
   "metadata": {},
   "outputs": [
    {
     "name": "stdout",
     "output_type": "stream",
     "text": [
      "Found 5216 files belonging to 2 classes.\n",
      "Using 4173 files for training.\n",
      "Found 17 files belonging to 2 classes.\n",
      "Using 3 files for validation.\n"
     ]
    }
   ],
   "source": [
    "# Créer un ensemble de données\n",
    "\n",
    "train_ds = tf.keras.utils.image_dataset_from_directory(\n",
    "  DATA_DIR +  TRAIN,\n",
    "  validation_split=0.2,\n",
    "  subset=\"training\",\n",
    "  seed=123,\n",
    "  color_mode=\"grayscale\",\n",
    "  image_size=(img_height, img_width),\n",
    "  batch_size=batch_size)\n",
    "\n",
    "val_ds = tf.keras.utils.image_dataset_from_directory(\n",
    "  DATA_DIR + VAL,\n",
    "  validation_split=0.2,\n",
    "  subset=\"validation\",\n",
    "  color_mode=\"grayscale\",\n",
    "  seed=123,\n",
    "  image_size=(img_height, img_width),\n",
    "  batch_size=batch_size)"
   ]
  },
  {
   "cell_type": "code",
   "execution_count": 6,
   "metadata": {},
   "outputs": [
    {
     "name": "stdout",
     "output_type": "stream",
     "text": [
      "['NORMAL', 'PNEUMONIA']\n"
     ]
    }
   ],
   "source": [
    "class_names = train_ds.class_names\n",
    "num_classes = len(class_names)\n",
    "print(class_names)"
   ]
  },
  {
   "cell_type": "code",
   "execution_count": 7,
   "metadata": {},
   "outputs": [],
   "source": [
    "# Configurer l'ensemble de données pour les performances\n",
    "\n",
    "AUTOTUNE = tf.data.AUTOTUNE\n",
    "\n",
    "train_ds = train_ds.cache().shuffle(1000).prefetch(buffer_size=AUTOTUNE)\n",
    "val_ds = val_ds.cache().prefetch(buffer_size=AUTOTUNE)"
   ]
  },
  {
   "cell_type": "code",
   "execution_count": 8,
   "metadata": {},
   "outputs": [
    {
     "name": "stdout",
     "output_type": "stream",
     "text": [
      "0.0042356006 0.9988435\n"
     ]
    }
   ],
   "source": [
    "# Standardiser les données\n",
    "\n",
    "normalization_layer = tf.keras.layers.Rescaling(1./255)\n",
    "\n",
    "normalized_ds = train_ds.map(lambda x, y: (normalization_layer(x), y))\n",
    "image_batch, labels_batch = next(iter(normalized_ds))\n",
    "first_image = image_batch[0]\n",
    "# Notice the pixel values are now in `[0,1]`.\n",
    "print(np.min(first_image), np.max(first_image))"
   ]
  },
  {
   "cell_type": "code",
   "execution_count": 9,
   "metadata": {},
   "outputs": [],
   "source": [
    "# Augmentation des données\n",
    "\n",
    "data_augmentation = keras.Sequential(\n",
    "  [\n",
    "    layers.RandomFlip(\"horizontal\",\n",
    "                      input_shape=(img_height,\n",
    "                                  img_width,\n",
    "                                  1)),\n",
    "    layers.RandomRotation(0.1),\n",
    "    layers.RandomZoom(0.1),\n",
    "  ]\n",
    ")"
   ]
  },
  {
   "cell_type": "code",
   "execution_count": 10,
   "metadata": {},
   "outputs": [],
   "source": [
    "# cree le modele\n",
    "\n",
    "model = Sequential([\n",
    "  data_augmentation,\n",
    "  layers.Conv2D(16, 3, padding='same', activation='relu', input_shape=(img_height, img_width, 1)),\n",
    "  layers.MaxPooling2D(),\n",
    "  layers.Conv2D(32, 3, padding='same', activation='relu'),\n",
    "  layers.MaxPooling2D(),\n",
    "  layers.Conv2D(64, 3, padding='same', activation='relu'),\n",
    "  layers.MaxPooling2D(),\n",
    "  layers.Dropout(0.2),\n",
    "  layers.Flatten(),\n",
    "  layers.Dense(128, activation='relu'),\n",
    "  layers.Dense(num_classes)\n",
    "])\n"
   ]
  },
  {
   "cell_type": "code",
   "execution_count": 11,
   "metadata": {},
   "outputs": [],
   "source": [
    "# Compiler le modèle\n",
    "\n",
    "model.compile(optimizer='adam',\n",
    "              loss=tf.keras.losses.SparseCategoricalCrossentropy(from_logits=True),\n",
    "              metrics=['accuracy'])"
   ]
  },
  {
   "cell_type": "code",
   "execution_count": 12,
   "metadata": {},
   "outputs": [
    {
     "name": "stdout",
     "output_type": "stream",
     "text": [
      "Model: \"sequential_1\"\n",
      "_________________________________________________________________\n",
      " Layer (type)                Output Shape              Param #   \n",
      "=================================================================\n",
      " sequential (Sequential)     (None, 128, 128, 1)       0         \n",
      "                                                                 \n",
      " conv2d (Conv2D)             (None, 128, 128, 16)      160       \n",
      "                                                                 \n",
      " max_pooling2d (MaxPooling2D  (None, 64, 64, 16)       0         \n",
      " )                                                               \n",
      "                                                                 \n",
      " conv2d_1 (Conv2D)           (None, 64, 64, 32)        4640      \n",
      "                                                                 \n",
      " max_pooling2d_1 (MaxPooling  (None, 32, 32, 32)       0         \n",
      " 2D)                                                             \n",
      "                                                                 \n",
      " conv2d_2 (Conv2D)           (None, 32, 32, 64)        18496     \n",
      "                                                                 \n",
      " max_pooling2d_2 (MaxPooling  (None, 16, 16, 64)       0         \n",
      " 2D)                                                             \n",
      "                                                                 \n",
      " dropout (Dropout)           (None, 16, 16, 64)        0         \n",
      "                                                                 \n",
      " flatten (Flatten)           (None, 16384)             0         \n",
      "                                                                 \n",
      " dense (Dense)               (None, 128)               2097280   \n",
      "                                                                 \n",
      " dense_1 (Dense)             (None, 2)                 258       \n",
      "                                                                 \n",
      "=================================================================\n",
      "Total params: 2,120,834\n",
      "Trainable params: 2,120,834\n",
      "Non-trainable params: 0\n",
      "_________________________________________________________________\n"
     ]
    }
   ],
   "source": [
    "# Résumé du modèle\n",
    "\n",
    "model.summary()"
   ]
  },
  {
   "cell_type": "code",
   "execution_count": 13,
   "metadata": {},
   "outputs": [],
   "source": [
    "# Create a callback allowing to save the best performing model\n",
    "checkpoint = ModelCheckpoint(\"saved_model.model.h5\", monitor='val_loss', verbose=1, save_best_only=True, min_delta = .002)"
   ]
  },
  {
   "cell_type": "code",
   "execution_count": 14,
   "metadata": {},
   "outputs": [],
   "source": [
    "early_stopping = tf.keras.callbacks.EarlyStopping(monitor='val_loss',\n",
    "                                                  patience=10)"
   ]
  },
  {
   "cell_type": "code",
   "execution_count": 15,
   "metadata": {},
   "outputs": [],
   "source": [
    "lr = tf.keras.callbacks.ReduceLROnPlateau(monitor='val_loss',\n",
    "                                          patience=10)"
   ]
  },
  {
   "cell_type": "code",
   "execution_count": 16,
   "metadata": {},
   "outputs": [
    {
     "name": "stdout",
     "output_type": "stream",
     "text": [
      "Epoch 1/5\n",
      "66/66 [==============================] - ETA: 0s - loss: 5.2226 - accuracy: 0.7335\n",
      "Epoch 1: val_loss improved from inf to 0.55439, saving model to saved_model.model.h5\n",
      "66/66 [==============================] - 15s 208ms/step - loss: 5.2226 - accuracy: 0.7335 - val_loss: 0.5544 - val_accuracy: 0.6667\n",
      "Epoch 2/5\n",
      "66/66 [==============================] - ETA: 0s - loss: 0.2554 - accuracy: 0.8953\n",
      "Epoch 2: val_loss improved from 0.55439 to 0.14914, saving model to saved_model.model.h5\n",
      "66/66 [==============================] - 13s 201ms/step - loss: 0.2554 - accuracy: 0.8953 - val_loss: 0.1491 - val_accuracy: 1.0000\n",
      "Epoch 3/5\n",
      "66/66 [==============================] - ETA: 0s - loss: 0.2142 - accuracy: 0.9133\n",
      "Epoch 3: val_loss did not improve from 0.14914\n",
      "66/66 [==============================] - 14s 209ms/step - loss: 0.2142 - accuracy: 0.9133 - val_loss: 0.3789 - val_accuracy: 0.6667\n",
      "Epoch 4/5\n",
      "66/66 [==============================] - ETA: 0s - loss: 0.1839 - accuracy: 0.9269\n",
      "Epoch 4: val_loss improved from 0.14914 to 0.04297, saving model to saved_model.model.h5\n",
      "66/66 [==============================] - 14s 207ms/step - loss: 0.1839 - accuracy: 0.9269 - val_loss: 0.0430 - val_accuracy: 1.0000\n",
      "Epoch 5/5\n",
      "66/66 [==============================] - ETA: 0s - loss: 0.1647 - accuracy: 0.9329\n",
      "Epoch 5: val_loss did not improve from 0.04297\n",
      "66/66 [==============================] - 14s 211ms/step - loss: 0.1647 - accuracy: 0.9329 - val_loss: 0.3405 - val_accuracy: 0.6667\n"
     ]
    }
   ],
   "source": [
    "# Former le modèle\n",
    "epochs=5\n",
    "history = model.fit(\n",
    "  train_ds,\n",
    "  validation_data=val_ds,\n",
    "  epochs=epochs,\n",
    "  callbacks=[checkpoint]\n",
    ")"
   ]
  },
  {
   "cell_type": "code",
   "execution_count": 17,
   "metadata": {},
   "outputs": [
    {
     "data": {
      "image/png": "[encoded data removed]",
      "text/plain": [
       "<Figure size 800x800 with 2 Axes>"
      ]
     },
     "metadata": {},
     "output_type": "display_data"
    }
   ],
   "source": [
    "# Visualisez les résultats de l'entraînement\n",
    "\n",
    "acc = history.history['accuracy']\n",
    "val_acc = history.history['val_accuracy']\n",
    "\n",
    "loss = history.history['loss']\n",
    "val_loss = history.history['val_loss']\n",
    "\n",
    "epochs_range = range(epochs)\n",
    "\n",
    "plt.figure(figsize=(8, 8))\n",
    "plt.subplot(1, 2, 1)\n",
    "plt.plot(epochs_range, acc, label='Training Accuracy')\n",
    "plt.plot(epochs_range, val_acc, label='Validation Accuracy')\n",
    "plt.legend(loc='lower right')\n",
    "plt.title('Training and Validation Accuracy')\n",
    "\n",
    "plt.subplot(1, 2, 2)\n",
    "plt.plot(epochs_range, loss, label='Training Loss')\n",
    "plt.plot(epochs_range, val_loss, label='Validation Loss')\n",
    "plt.legend(loc='upper right')\n",
    "plt.title('Training and Validation Loss')\n",
    "plt.show()"
   ]
  },
  {
   "cell_type": "code",
   "execution_count": 21,
   "metadata": {},
   "outputs": [
    {
     "name": "stdout",
     "output_type": "stream",
     "text": [
      "1/1 [==============================] - 0s 15ms/step\n",
      "This image most likely belongs to PNEUMONIA with a 98.89 percent confidence.\n",
      "1/1 [==============================] - 0s 17ms/step\n",
      "This image most likely belongs to PNEUMONIA with a 97.93 percent confidence.\n",
      "1/1 [==============================] - 0s 15ms/step\n",
      "This image most likely belongs to PNEUMONIA with a 98.31 percent confidence.\n",
      "1/1 [==============================] - 0s 14ms/step\n",
      "This image most likely belongs to PNEUMONIA with a 70.74 percent confidence.\n",
      "1/1 [==============================] - 0s 15ms/step\n",
      "This image most likely belongs to NORMAL with a 53.09 percent confidence.\n",
      "1/1 [==============================] - 0s 16ms/step\n",
      "This image most likely belongs to PNEUMONIA with a 99.73 percent confidence.\n",
      "1/1 [==============================] - 0s 14ms/step\n",
      "This image most likely belongs to PNEUMONIA with a 94.42 percent confidence.\n",
      "1/1 [==============================] - 0s 15ms/step\n",
      "This image most likely belongs to PNEUMONIA with a 88.62 percent confidence.\n",
      "1/1 [==============================] - 0s 16ms/step\n",
      "This image most likely belongs to NORMAL with a 91.83 percent confidence.\n",
      "1/1 [==============================] - 0s 14ms/step\n",
      "This image most likely belongs to NORMAL with a 88.95 percent confidence.\n",
      "1/1 [==============================] - 0s 19ms/step\n",
      "This image most likely belongs to NORMAL with a 83.87 percent confidence.\n",
      "1/1 [==============================] - 0s 17ms/step\n",
      "This image most likely belongs to NORMAL with a 96.11 percent confidence.\n",
      "1/1 [==============================] - 0s 16ms/step\n",
      "This image most likely belongs to PNEUMONIA with a 56.10 percent confidence.\n",
      "1/1 [==============================] - 0s 15ms/step\n",
      "This image most likely belongs to PNEUMONIA with a 83.31 percent confidence.\n",
      "1/1 [==============================] - 0s 13ms/step\n",
      "This image most likely belongs to NORMAL with a 67.15 percent confidence.\n",
      "1/1 [==============================] - 0s 14ms/step\n",
      "This image most likely belongs to NORMAL with a 80.53 percent confidence.\n",
      "1/1 [==============================] - 0s 14ms/step\n",
      "This image most likely belongs to NORMAL with a 74.14 percent confidence.\n"
     ]
    }
   ],
   "source": [
    "# test \n",
    "import os\n",
    "  \n",
    "  \n",
    "for file in os.listdir(DATA_DIR + VAL + \"/\" + PNEUMONIA):\n",
    "  img = tf.keras.utils.load_img(\n",
    "      DATA_DIR + VAL + \"/\" + PNEUMONIA + \"/\" +file, target_size=(img_height, img_width), color_mode=\"grayscale\"\n",
    "  )\n",
    "  img_array = tf.keras.utils.img_to_array(img)\n",
    "  img_array = tf.expand_dims(img_array, 0)\n",
    "\n",
    "  predictions = model.predict(img_array)\n",
    "  score = tf.nn.softmax(predictions[0])\n",
    "\n",
    "  print(\n",
    "      \"This image most likely belongs to {} with a {:.2f} percent confidence.\"\n",
    "      .format(class_names[np.argmax(score)], 100 * np.max(score))\n",
    "  )\n",
    "  \n",
    "for file in os.listdir(DATA_DIR + VAL + \"/\" + NORMAL):\n",
    "  img = tf.keras.utils.load_img(\n",
    "      DATA_DIR + VAL + \"/\" + NORMAL + \"/\" +file, target_size=(img_height, img_width), color_mode=\"grayscale\"\n",
    "  )\n",
    "  img_array = tf.keras.utils.img_to_array(img)\n",
    "  img_array = tf.expand_dims(img_array, 0)\n",
    "\n",
    "  predictions = model.predict(img_array)\n",
    "  score = tf.nn.softmax(predictions[0])\n",
    "\n",
    "  print(\n",
    "      \"This image most likely belongs to {} with a {:.2f} percent confidence.\"\n",
    "      .format(class_names[np.argmax(score)], 100 * np.max(score))\n",
    "  )"
   ]
  },
  {
   "cell_type": "code",
   "execution_count": 22,
   "metadata": {},
   "outputs": [
    {
     "ename": "UnimplementedError",
     "evalue": "Graph execution error:\n\nDetected at node 'sequential_1/conv2d/Relu' defined at (most recent call last):\n    File \"<frozen runpy>\", line 198, in _run_module_as_main\n    File \"<frozen runpy>\", line 88, in _run_code\n    File \"c:\\Users\\nujab\\Developement\\epitech\\Zoidbergb\\zoidberg_env\\Lib\\site-packages\\ipykernel_launcher.py\", line 17, in <module>\n      app.launch_new_instance()\n    File \"c:\\Users\\nujab\\Developement\\epitech\\Zoidbergb\\zoidberg_env\\Lib\\site-packages\\traitlets\\config\\application.py\", line 1043, in launch_instance\n      app.start()\n    File \"c:\\Users\\nujab\\Developement\\epitech\\Zoidbergb\\zoidberg_env\\Lib\\site-packages\\ipykernel\\kernelapp.py\", line 725, in start\n      self.io_loop.start()\n    File \"c:\\Users\\nujab\\Developement\\epitech\\Zoidbergb\\zoidberg_env\\Lib\\site-packages\\tornado\\platform\\asyncio.py\", line 195, in start\n      self.asyncio_loop.run_forever()\n    File \"C:\\Python311\\Lib\\asyncio\\base_events.py\", line 604, in run_forever\n      self._run_once()\n    File \"C:\\Python311\\Lib\\asyncio\\base_events.py\", line 1909, in _run_once\n      handle._run()\n    File \"C:\\Python311\\Lib\\asyncio\\events.py\", line 80, in _run\n      self._context.run(self._callback, *self._args)\n    File \"c:\\Users\\nujab\\Developement\\epitech\\Zoidbergb\\zoidberg_env\\Lib\\site-packages\\ipykernel\\kernelbase.py\", line 513, in dispatch_queue\n      await self.process_one()\n    File \"c:\\Users\\nujab\\Developement\\epitech\\Zoidbergb\\zoidberg_env\\Lib\\site-packages\\ipykernel\\kernelbase.py\", line 502, in process_one\n      await dispatch(*args)\n    File \"c:\\Users\\nujab\\Developement\\epitech\\Zoidbergb\\zoidberg_env\\Lib\\site-packages\\ipykernel\\kernelbase.py\", line 409, in dispatch_shell\n      await result\n    File \"c:\\Users\\nujab\\Developement\\epitech\\Zoidbergb\\zoidberg_env\\Lib\\site-packages\\ipykernel\\kernelbase.py\", line 729, in execute_request\n      reply_content = await reply_content\n    File \"c:\\Users\\nujab\\Developement\\epitech\\Zoidbergb\\zoidberg_env\\Lib\\site-packages\\ipykernel\\ipkernel.py\", line 422, in do_execute\n      res = shell.run_cell(\n    File \"c:\\Users\\nujab\\Developement\\epitech\\Zoidbergb\\zoidberg_env\\Lib\\site-packages\\ipykernel\\zmqshell.py\", line 540, in run_cell\n      return super().run_cell(*args, **kwargs)\n    File \"c:\\Users\\nujab\\Developement\\epitech\\Zoidbergb\\zoidberg_env\\Lib\\site-packages\\IPython\\core\\interactiveshell.py\", line 3009, in run_cell\n      result = self._run_cell(\n    File \"c:\\Users\\nujab\\Developement\\epitech\\Zoidbergb\\zoidberg_env\\Lib\\site-packages\\IPython\\core\\interactiveshell.py\", line 3064, in _run_cell\n      result = runner(coro)\n    File \"c:\\Users\\nujab\\Developement\\epitech\\Zoidbergb\\zoidberg_env\\Lib\\site-packages\\IPython\\core\\async_helpers.py\", line 129, in _pseudo_sync_runner\n      coro.send(None)\n    File \"c:\\Users\\nujab\\Developement\\epitech\\Zoidbergb\\zoidberg_env\\Lib\\site-packages\\IPython\\core\\interactiveshell.py\", line 3269, in run_cell_async\n      has_raised = await self.run_ast_nodes(code_ast.body, cell_name,\n    File \"c:\\Users\\nujab\\Developement\\epitech\\Zoidbergb\\zoidberg_env\\Lib\\site-packages\\IPython\\core\\interactiveshell.py\", line 3448, in run_ast_nodes\n      if await self.run_code(code, result, async_=asy):\n    File \"c:\\Users\\nujab\\Developement\\epitech\\Zoidbergb\\zoidberg_env\\Lib\\site-packages\\IPython\\core\\interactiveshell.py\", line 3508, in run_code\n      exec(code_obj, self.user_global_ns, self.user_ns)\n    File \"C:\\Users\\nujab\\AppData\\Local\\Temp\\ipykernel_13236\\2866584927.py\", line 27, in <module>\n      predictions = model.predict(img_array)\n    File \"c:\\Users\\nujab\\Developement\\epitech\\Zoidbergb\\zoidberg_env\\Lib\\site-packages\\keras\\utils\\traceback_utils.py\", line 65, in error_handler\n      return fn(*args, **kwargs)\n    File \"c:\\Users\\nujab\\Developement\\epitech\\Zoidbergb\\zoidberg_env\\Lib\\site-packages\\keras\\engine\\training.py\", line 2382, in predict\n      tmp_batch_outputs = self.predict_function(iterator)\n    File \"c:\\Users\\nujab\\Developement\\epitech\\Zoidbergb\\zoidberg_env\\Lib\\site-packages\\keras\\engine\\training.py\", line 2169, in predict_function\n      return step_function(self, iterator)\n    File \"c:\\Users\\nujab\\Developement\\epitech\\Zoidbergb\\zoidberg_env\\Lib\\site-packages\\keras\\engine\\training.py\", line 2155, in step_function\n      outputs = model.distribute_strategy.run(run_step, args=(data,))\n    File \"c:\\Users\\nujab\\Developement\\epitech\\Zoidbergb\\zoidberg_env\\Lib\\site-packages\\keras\\engine\\training.py\", line 2143, in run_step\n      outputs = model.predict_step(data)\n    File \"c:\\Users\\nujab\\Developement\\epitech\\Zoidbergb\\zoidberg_env\\Lib\\site-packages\\keras\\engine\\training.py\", line 2111, in predict_step\n      return self(x, training=False)\n    File \"c:\\Users\\nujab\\Developement\\epitech\\Zoidbergb\\zoidberg_env\\Lib\\site-packages\\keras\\utils\\traceback_utils.py\", line 65, in error_handler\n      return fn(*args, **kwargs)\n    File \"c:\\Users\\nujab\\Developement\\epitech\\Zoidbergb\\zoidberg_env\\Lib\\site-packages\\keras\\engine\\training.py\", line 558, in __call__\n      return super().__call__(*args, **kwargs)\n    File \"c:\\Users\\nujab\\Developement\\epitech\\Zoidbergb\\zoidberg_env\\Lib\\site-packages\\keras\\utils\\traceback_utils.py\", line 65, in error_handler\n      return fn(*args, **kwargs)\n    File \"c:\\Users\\nujab\\Developement\\epitech\\Zoidbergb\\zoidberg_env\\Lib\\site-packages\\keras\\engine\\base_layer.py\", line 1145, in __call__\n      outputs = call_fn(inputs, *args, **kwargs)\n    File \"c:\\Users\\nujab\\Developement\\epitech\\Zoidbergb\\zoidberg_env\\Lib\\site-packages\\keras\\utils\\traceback_utils.py\", line 96, in error_handler\n      return fn(*args, **kwargs)\n    File \"c:\\Users\\nujab\\Developement\\epitech\\Zoidbergb\\zoidberg_env\\Lib\\site-packages\\keras\\engine\\sequential.py\", line 412, in call\n      return super().call(inputs, training=training, mask=mask)\n    File \"c:\\Users\\nujab\\Developement\\epitech\\Zoidbergb\\zoidberg_env\\Lib\\site-packages\\keras\\engine\\functional.py\", line 512, in call\n      return self._run_internal_graph(inputs, training=training, mask=mask)\n    File \"c:\\Users\\nujab\\Developement\\epitech\\Zoidbergb\\zoidberg_env\\Lib\\site-packages\\keras\\engine\\functional.py\", line 669, in _run_internal_graph\n      outputs = node.layer(*args, **kwargs)\n    File \"c:\\Users\\nujab\\Developement\\epitech\\Zoidbergb\\zoidberg_env\\Lib\\site-packages\\keras\\utils\\traceback_utils.py\", line 65, in error_handler\n      return fn(*args, **kwargs)\n    File \"c:\\Users\\nujab\\Developement\\epitech\\Zoidbergb\\zoidberg_env\\Lib\\site-packages\\keras\\engine\\base_layer.py\", line 1145, in __call__\n      outputs = call_fn(inputs, *args, **kwargs)\n    File \"c:\\Users\\nujab\\Developement\\epitech\\Zoidbergb\\zoidberg_env\\Lib\\site-packages\\keras\\utils\\traceback_utils.py\", line 96, in error_handler\n      return fn(*args, **kwargs)\n    File \"c:\\Users\\nujab\\Developement\\epitech\\Zoidbergb\\zoidberg_env\\Lib\\site-packages\\keras\\layers\\convolutional\\base_conv.py\", line 321, in call\n      return self.activation(outputs)\n    File \"c:\\Users\\nujab\\Developement\\epitech\\Zoidbergb\\zoidberg_env\\Lib\\site-packages\\keras\\activations.py\", line 317, in relu\n      return backend.relu(\n    File \"c:\\Users\\nujab\\Developement\\epitech\\Zoidbergb\\zoidberg_env\\Lib\\site-packages\\keras\\backend.py\", line 5396, in relu\n      x = tf.nn.relu(x)\nNode: 'sequential_1/conv2d/Relu'\nFused conv implementation does not support grouped convolutions for now.\n\t [[{{node sequential_1/conv2d/Relu}}]] [Op:__inference_predict_function_5393]",
     "output_type": "error",
     "traceback": [
      "\u001b[1;31m---------------------------------------------------------------------------\u001b[0m",
      "\u001b[1;31mUnimplementedError\u001b[0m                        Traceback (most recent call last)",
      "Cell \u001b[1;32mIn[22], line 14\u001b[0m\n\u001b[0;32m     11\u001b[0m img_array \u001b[39m=\u001b[39m tf\u001b[39m.\u001b[39mkeras\u001b[39m.\u001b[39mutils\u001b[39m.\u001b[39mimg_to_array(img)\n\u001b[0;32m     12\u001b[0m img_array \u001b[39m=\u001b[39m tf\u001b[39m.\u001b[39mexpand_dims(img_array, \u001b[39m0\u001b[39m)\n\u001b[1;32m---> 14\u001b[0m predictions \u001b[39m=\u001b[39m model\u001b[39m.\u001b[39;49mpredict(img_array)\n\u001b[0;32m     15\u001b[0m score \u001b[39m=\u001b[39m tf\u001b[39m.\u001b[39mnn\u001b[39m.\u001b[39msoftmax(predictions[\u001b[39m0\u001b[39m])\n\u001b[0;32m     17\u001b[0m val_images\u001b[39m.\u001b[39mappend(file)\n",
      "File \u001b[1;32mc:\\Users\\nujab\\Developement\\epitech\\Zoidbergb\\zoidberg_env\\Lib\\site-packages\\keras\\utils\\traceback_utils.py:70\u001b[0m, in \u001b[0;36mfilter_traceback.<locals>.error_handler\u001b[1;34m(*args, **kwargs)\u001b[0m\n\u001b[0;32m     67\u001b[0m     filtered_tb \u001b[39m=\u001b[39m _process_traceback_frames(e\u001b[39m.\u001b[39m__traceback__)\n\u001b[0;32m     68\u001b[0m     \u001b[39m# To get the full stack trace, call:\u001b[39;00m\n\u001b[0;32m     69\u001b[0m     \u001b[39m# `tf.debugging.disable_traceback_filtering()`\u001b[39;00m\n\u001b[1;32m---> 70\u001b[0m     \u001b[39mraise\u001b[39;00m e\u001b[39m.\u001b[39mwith_traceback(filtered_tb) \u001b[39mfrom\u001b[39;00m \u001b[39mNone\u001b[39;00m\n\u001b[0;32m     71\u001b[0m \u001b[39mfinally\u001b[39;00m:\n\u001b[0;32m     72\u001b[0m     \u001b[39mdel\u001b[39;00m filtered_tb\n",
      "File \u001b[1;32mc:\\Users\\nujab\\Developement\\epitech\\Zoidbergb\\zoidberg_env\\Lib\\site-packages\\tensorflow\\python\\eager\\execute.py:52\u001b[0m, in \u001b[0;36mquick_execute\u001b[1;34m(op_name, num_outputs, inputs, attrs, ctx, name)\u001b[0m\n\u001b[0;32m     50\u001b[0m \u001b[39mtry\u001b[39;00m:\n\u001b[0;32m     51\u001b[0m   ctx\u001b[39m.\u001b[39mensure_initialized()\n\u001b[1;32m---> 52\u001b[0m   tensors \u001b[39m=\u001b[39m pywrap_tfe\u001b[39m.\u001b[39mTFE_Py_Execute(ctx\u001b[39m.\u001b[39m_handle, device_name, op_name,\n\u001b[0;32m     53\u001b[0m                                       inputs, attrs, num_outputs)\n\u001b[0;32m     54\u001b[0m \u001b[39mexcept\u001b[39;00m core\u001b[39m.\u001b[39m_NotOkStatusException \u001b[39mas\u001b[39;00m e:\n\u001b[0;32m     55\u001b[0m   \u001b[39mif\u001b[39;00m name \u001b[39mis\u001b[39;00m \u001b[39mnot\u001b[39;00m \u001b[39mNone\u001b[39;00m:\n",
      "\u001b[1;31mUnimplementedError\u001b[0m: Graph execution error:\n\nDetected at node 'sequential_1/conv2d/Relu' defined at (most recent call last):\n    File \"<frozen runpy>\", line 198, in _run_module_as_main\n    File \"<frozen runpy>\", line 88, in _run_code\n    File \"c:\\Users\\nujab\\Developement\\epitech\\Zoidbergb\\zoidberg_env\\Lib\\site-packages\\ipykernel_launcher.py\", line 17, in <module>\n      app.launch_new_instance()\n    File \"c:\\Users\\nujab\\Developement\\epitech\\Zoidbergb\\zoidberg_env\\Lib\\site-packages\\traitlets\\config\\application.py\", line 1043, in launch_instance\n      app.start()\n    File \"c:\\Users\\nujab\\Developement\\epitech\\Zoidbergb\\zoidberg_env\\Lib\\site-packages\\ipykernel\\kernelapp.py\", line 725, in start\n      self.io_loop.start()\n    File \"c:\\Users\\nujab\\Developement\\epitech\\Zoidbergb\\zoidberg_env\\Lib\\site-packages\\tornado\\platform\\asyncio.py\", line 195, in start\n      self.asyncio_loop.run_forever()\n    File \"C:\\Python311\\Lib\\asyncio\\base_events.py\", line 604, in run_forever\n      self._run_once()\n    File \"C:\\Python311\\Lib\\asyncio\\base_events.py\", line 1909, in _run_once\n      handle._run()\n    File \"C:\\Python311\\Lib\\asyncio\\events.py\", line 80, in _run\n      self._context.run(self._callback, *self._args)\n    File \"c:\\Users\\nujab\\Developement\\epitech\\Zoidbergb\\zoidberg_env\\Lib\\site-packages\\ipykernel\\kernelbase.py\", line 513, in dispatch_queue\n      await self.process_one()\n    File \"c:\\Users\\nujab\\Developement\\epitech\\Zoidbergb\\zoidberg_env\\Lib\\site-packages\\ipykernel\\kernelbase.py\", line 502, in process_one\n      await dispatch(*args)\n    File \"c:\\Users\\nujab\\Developement\\epitech\\Zoidbergb\\zoidberg_env\\Lib\\site-packages\\ipykernel\\kernelbase.py\", line 409, in dispatch_shell\n      await result\n    File \"c:\\Users\\nujab\\Developement\\epitech\\Zoidbergb\\zoidberg_env\\Lib\\site-packages\\ipykernel\\kernelbase.py\", line 729, in execute_request\n      reply_content = await reply_content\n    File \"c:\\Users\\nujab\\Developement\\epitech\\Zoidbergb\\zoidberg_env\\Lib\\site-packages\\ipykernel\\ipkernel.py\", line 422, in do_execute\n      res = shell.run_cell(\n    File \"c:\\Users\\nujab\\Developement\\epitech\\Zoidbergb\\zoidberg_env\\Lib\\site-packages\\ipykernel\\zmqshell.py\", line 540, in run_cell\n      return super().run_cell(*args, **kwargs)\n    File \"c:\\Users\\nujab\\Developement\\epitech\\Zoidbergb\\zoidberg_env\\Lib\\site-packages\\IPython\\core\\interactiveshell.py\", line 3009, in run_cell\n      result = self._run_cell(\n    File \"c:\\Users\\nujab\\Developement\\epitech\\Zoidbergb\\zoidberg_env\\Lib\\site-packages\\IPython\\core\\interactiveshell.py\", line 3064, in _run_cell\n      result = runner(coro)\n    File \"c:\\Users\\nujab\\Developement\\epitech\\Zoidbergb\\zoidberg_env\\Lib\\site-packages\\IPython\\core\\async_helpers.py\", line 129, in _pseudo_sync_runner\n      coro.send(None)\n    File \"c:\\Users\\nujab\\Developement\\epitech\\Zoidbergb\\zoidberg_env\\Lib\\site-packages\\IPython\\core\\interactiveshell.py\", line 3269, in run_cell_async\n      has_raised = await self.run_ast_nodes(code_ast.body, cell_name,\n    File \"c:\\Users\\nujab\\Developement\\epitech\\Zoidbergb\\zoidberg_env\\Lib\\site-packages\\IPython\\core\\interactiveshell.py\", line 3448, in run_ast_nodes\n      if await self.run_code(code, result, async_=asy):\n    File \"c:\\Users\\nujab\\Developement\\epitech\\Zoidbergb\\zoidberg_env\\Lib\\site-packages\\IPython\\core\\interactiveshell.py\", line 3508, in run_code\n      exec(code_obj, self.user_global_ns, self.user_ns)\n    File \"C:\\Users\\nujab\\AppData\\Local\\Temp\\ipykernel_13236\\2866584927.py\", line 27, in <module>\n      predictions = model.predict(img_array)\n    File \"c:\\Users\\nujab\\Developement\\epitech\\Zoidbergb\\zoidberg_env\\Lib\\site-packages\\keras\\utils\\traceback_utils.py\", line 65, in error_handler\n      return fn(*args, **kwargs)\n    File \"c:\\Users\\nujab\\Developement\\epitech\\Zoidbergb\\zoidberg_env\\Lib\\site-packages\\keras\\engine\\training.py\", line 2382, in predict\n      tmp_batch_outputs = self.predict_function(iterator)\n    File \"c:\\Users\\nujab\\Developement\\epitech\\Zoidbergb\\zoidberg_env\\Lib\\site-packages\\keras\\engine\\training.py\", line 2169, in predict_function\n      return step_function(self, iterator)\n    File \"c:\\Users\\nujab\\Developement\\epitech\\Zoidbergb\\zoidberg_env\\Lib\\site-packages\\keras\\engine\\training.py\", line 2155, in step_function\n      outputs = model.distribute_strategy.run(run_step, args=(data,))\n    File \"c:\\Users\\nujab\\Developement\\epitech\\Zoidbergb\\zoidberg_env\\Lib\\site-packages\\keras\\engine\\training.py\", line 2143, in run_step\n      outputs = model.predict_step(data)\n    File \"c:\\Users\\nujab\\Developement\\epitech\\Zoidbergb\\zoidberg_env\\Lib\\site-packages\\keras\\engine\\training.py\", line 2111, in predict_step\n      return self(x, training=False)\n    File \"c:\\Users\\nujab\\Developement\\epitech\\Zoidbergb\\zoidberg_env\\Lib\\site-packages\\keras\\utils\\traceback_utils.py\", line 65, in error_handler\n      return fn(*args, **kwargs)\n    File \"c:\\Users\\nujab\\Developement\\epitech\\Zoidbergb\\zoidberg_env\\Lib\\site-packages\\keras\\engine\\training.py\", line 558, in __call__\n      return super().__call__(*args, **kwargs)\n    File \"c:\\Users\\nujab\\Developement\\epitech\\Zoidbergb\\zoidberg_env\\Lib\\site-packages\\keras\\utils\\traceback_utils.py\", line 65, in error_handler\n      return fn(*args, **kwargs)\n    File \"c:\\Users\\nujab\\Developement\\epitech\\Zoidbergb\\zoidberg_env\\Lib\\site-packages\\keras\\engine\\base_layer.py\", line 1145, in __call__\n      outputs = call_fn(inputs, *args, **kwargs)\n    File \"c:\\Users\\nujab\\Developement\\epitech\\Zoidbergb\\zoidberg_env\\Lib\\site-packages\\keras\\utils\\traceback_utils.py\", line 96, in error_handler\n      return fn(*args, **kwargs)\n    File \"c:\\Users\\nujab\\Developement\\epitech\\Zoidbergb\\zoidberg_env\\Lib\\site-packages\\keras\\engine\\sequential.py\", line 412, in call\n      return super().call(inputs, training=training, mask=mask)\n    File \"c:\\Users\\nujab\\Developement\\epitech\\Zoidbergb\\zoidberg_env\\Lib\\site-packages\\keras\\engine\\functional.py\", line 512, in call\n      return self._run_internal_graph(inputs, training=training, mask=mask)\n    File \"c:\\Users\\nujab\\Developement\\epitech\\Zoidbergb\\zoidberg_env\\Lib\\site-packages\\keras\\engine\\functional.py\", line 669, in _run_internal_graph\n      outputs = node.layer(*args, **kwargs)\n    File \"c:\\Users\\nujab\\Developement\\epitech\\Zoidbergb\\zoidberg_env\\Lib\\site-packages\\keras\\utils\\traceback_utils.py\", line 65, in error_handler\n      return fn(*args, **kwargs)\n    File \"c:\\Users\\nujab\\Developement\\epitech\\Zoidbergb\\zoidberg_env\\Lib\\site-packages\\keras\\engine\\base_layer.py\", line 1145, in __call__\n      outputs = call_fn(inputs, *args, **kwargs)\n    File \"c:\\Users\\nujab\\Developement\\epitech\\Zoidbergb\\zoidberg_env\\Lib\\site-packages\\keras\\utils\\traceback_utils.py\", line 96, in error_handler\n      return fn(*args, **kwargs)\n    File \"c:\\Users\\nujab\\Developement\\epitech\\Zoidbergb\\zoidberg_env\\Lib\\site-packages\\keras\\layers\\convolutional\\base_conv.py\", line 321, in call\n      return self.activation(outputs)\n    File \"c:\\Users\\nujab\\Developement\\epitech\\Zoidbergb\\zoidberg_env\\Lib\\site-packages\\keras\\activations.py\", line 317, in relu\n      return backend.relu(\n    File \"c:\\Users\\nujab\\Developement\\epitech\\Zoidbergb\\zoidberg_env\\Lib\\site-packages\\keras\\backend.py\", line 5396, in relu\n      x = tf.nn.relu(x)\nNode: 'sequential_1/conv2d/Relu'\nFused conv implementation does not support grouped convolutions for now.\n\t [[{{node sequential_1/conv2d/Relu}}]] [Op:__inference_predict_function_5393]"
     ]
    }
   ],
   "source": [
    "from sklearn.metrics import confusion_matrix\n",
    "\n",
    "val_images = []\n",
    "val_labels = []\n",
    "pred_labels = []\n",
    "\n",
    "for file in os.listdir(DATA_DIR + TEST + \"/\" + PNEUMONIA):\n",
    "  img = tf.keras.utils.load_img(\n",
    "      DATA_DIR + TEST + \"/\" + PNEUMONIA + \"/\" +file, target_size=(img_height, img_width), color_mode=\"grayscale\"\n",
    "  )\n",
    "  img_array = tf.keras.utils.img_to_array(img)\n",
    "  img_array = tf.expand_dims(img_array, 0)\n",
    "\n",
    "  predictions = model.predict(img_array)\n",
    "  score = tf.nn.softmax(predictions[0])\n",
    "\n",
    "  val_images.append(file)\n",
    "  val_labels.append(1)  # pneumonia\n",
    "  pred_labels.append(np.argmax(score))\n",
    "\n",
    "for file in os.listdir(DATA_DIR + TEST + \"/\" + NORMAL):\n",
    "  img = tf.keras.utils.load_img(\n",
    "      DATA_DIR + TEST + \"/\" + NORMAL + \"/\" +file, target_size=(img_height, img_width), color_mode=\"grayscale\"\n",
    "  )\n",
    "  img_array = tf.keras.utils.img_to_array(img)\n",
    "  img_array = tf.expand_dims(img_array, 0)\n",
    "\n",
    "  predictions = model.predict(img_array)\n",
    "  score = tf.nn.softmax(predictions[0])\n",
    "\n",
    "  val_images.append(file)\n",
    "  val_labels.append(0)  # normal\n",
    "  pred_labels.append(np.argmax(score))\n",
    "\n",
    "conf_mat = confusion_matrix(val_labels, pred_labels)\n",
    "print(conf_mat)"
   ]
  },
  {
   "cell_type": "code",
   "execution_count": null,
   "metadata": {},
   "outputs": [],
   "source": [
    "# Get the confusion matrix\n",
    "fig, ax = plot_confusion_matrix(conf_mat=conf_mat,\n",
    "                                show_absolute=True,\n",
    "                                show_normed=True,\n",
    "                                colorbar=True)\n",
    "plt.title('Confusion matrix')\n",
    "plt.xticks(range(2), ['Normal','Pneumonia'], fontsize=10)\n",
    "plt.yticks(range(2), ['Normal','Pneumonia'], fontsize=10)\n",
    "\n",
    "plt.show()"
   ]
  }
 ],
 "metadata": {
  "kernelspec": {
   "display_name": ".env",
   "language": "python",
   "name": "python3"
  },
  "language_info": {
   "codemirror_mode": {
    "name": "ipython",
    "version": 3
   },
   "file_extension": ".py",
   "mimetype": "text/x-python",
   "name": "python",
   "nbconvert_exporter": "python",
   "pygments_lexer": "ipython3",
   "version": "3.11.0"
  },
  "orig_nbformat": 4,
  "vscode": {
   "interpreter": {
    "hash": "8b57c9539546285cf2a5cfe603573815f4d41f87ecc9231ac060599e7dc018d8"
   }
  }
 },
 "nbformat": 4,
 "nbformat_minor": 2
}
